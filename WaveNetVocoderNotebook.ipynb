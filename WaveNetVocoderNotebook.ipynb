{
  "nbformat": 4,
  "nbformat_minor": 0,
  "metadata": {
    "colab": {
      "name": "WaveNetVocoderNotebook.ipynb",
      "provenance": [],
      "authorship_tag": "ABX9TyMURB0/+X4P1khEYZRO7Z4I"
    },
    "kernelspec": {
      "name": "python3",
      "display_name": "Python 3"
    },
    "language_info": {
      "name": "python"
    }
  },
  "cells": [
    {
      "cell_type": "code",
      "execution_count": null,
      "metadata": {
        "id": "FaMGP0oanFPh"
      },
      "outputs": [],
      "source": [
        ""
      ]
    }
  ]
}